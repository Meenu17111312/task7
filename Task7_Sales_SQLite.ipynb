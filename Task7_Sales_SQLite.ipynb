{
 "cells": [
  {
   "cell_type": "markdown",
   "id": "2bb12fc0",
   "metadata": {},
   "source": [
    "# Task 7 - Sales Data Analysis using SQLite in Python"
   ]
  },
  {
   "cell_type": "code",
   "execution_count": null,
   "id": "96fe2c2e",
   "metadata": {},
   "outputs": [],
   "source": [
    "\n",
    "import pandas as pd\n",
    "import sqlite3\n",
    "import matplotlib.pyplot as plt\n",
    "import seaborn as sns\n",
    "\n",
    "# Load CSV\n",
    "df = pd.read_csv('sales_data_amazon.csv')\n",
    "\n",
    "# Create SQLite connection and table\n",
    "conn = sqlite3.connect('sales_data.db')\n",
    "df.to_sql('sales', conn, if_exists='replace', index=False)\n",
    "\n",
    "# Run SQL query\n",
    "query = \"\"\"\n",
    "SELECT product_name,\n",
    "       SUM(quantity) AS total_quantity,\n",
    "       SUM(sales) AS total_revenue\n",
    "FROM sales\n",
    "GROUP BY product_name\n",
    "ORDER BY total_revenue DESC\n",
    "\"\"\"\n",
    "df_summary = pd.read_sql_query(query, conn)\n",
    "print(df_summary)\n",
    "conn.close()\n",
    "\n",
    "# Plot Quantity\n",
    "plt.figure(figsize=(10,5))\n",
    "sns.barplot(data=df_summary, x='product_name', y='total_quantity')\n",
    "plt.xticks(rotation=90)\n",
    "plt.title('Total Quantity Sold per Product')\n",
    "plt.show()\n",
    "\n",
    "# Plot Revenue\n",
    "plt.figure(figsize=(10,5))\n",
    "sns.barplot(data=df_summary, x='product_name', y='total_revenue')\n",
    "plt.xticks(rotation=90)\n",
    "plt.title('Total Revenue per Product')\n",
    "plt.show()\n"
   ]
  }
 ],
 "metadata": {},
 "nbformat": 4,
 "nbformat_minor": 5
}
